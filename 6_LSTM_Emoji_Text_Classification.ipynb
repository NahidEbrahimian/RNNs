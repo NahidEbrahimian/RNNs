{
  "cells": [
    {
      "cell_type": "markdown",
      "metadata": {
        "id": "gVmZOWRrBF8g"
      },
      "source": [
        "# Problem: RNN Text Classification"
      ]
    },
    {
      "cell_type": "code",
      "execution_count": 68,
      "metadata": {
        "id": "OkJKxn3wgkvM"
      },
      "outputs": [],
      "source": [
        "# Imports\n",
        "import pandas as pd\n",
        "import numpy as np\n",
        "import tensorflow as tf\n",
        "from keras.models import Model\n",
        "from keras.layers import Dense, Dropout, LSTM, GRU\n",
        "from keras.preprocessing import sequence"
      ]
    },
    {
      "cell_type": "markdown",
      "metadata": {
        "id": "dJPA0QLqB1XP"
      },
      "source": [
        "### Dataset EMOJISET\n",
        "\n",
        "Tiny dataset (X, Y) where:\n",
        "- X contains 132 sentences (strings)\n",
        "- Y contains a integer label between 0 and 4 corresponding to an emoji for each sentence\n",
        "\n",
        "<img src=\"https://github.com/Alireza-Akhavan/rnn-notebooks/blob/master/images/data_set.png?raw=1\" style=\"width:700px;height:300px;\">\n"
      ]
    },
    {
      "cell_type": "code",
      "execution_count": 2,
      "metadata": {
        "id": "AxUPiZirgv3A"
      },
      "outputs": [],
      "source": [
        "# Read csv file\n",
        "def read_csv(file_name):\n",
        "  data_frame = pd.read_csv(file_name)\n",
        "  X = np.array(data_frame[\"sentence\"])\n",
        "  Y = np.array(data_frame[\"label\"], dtype=int) # labels are integere\n",
        "  return X, Y"
      ]
    },
    {
      "cell_type": "code",
      "execution_count": 7,
      "metadata": {
        "id": "odVepcWahpOr"
      },
      "outputs": [],
      "source": [
        "X_train, Y_train = read_csv(\"/content/drive/MyDrive/dataset/Emoji_Text_Classification/train.csv\")\n",
        "X_test, Y_test = read_csv(\"/content/drive/MyDrive/dataset/Emoji_Text_Classification/test.csv\")"
      ]
    },
    {
      "cell_type": "code",
      "execution_count": 10,
      "metadata": {
        "colab": {
          "base_uri": "https://localhost:8080/"
        },
        "id": "aBTDPX1Xhs8U",
        "outputId": "2d6de59b-5152-48ff-b2bb-4986791fceaa"
      },
      "outputs": [
        {
          "data": {
            "text/plain": [
              "10"
            ]
          },
          "execution_count": 10,
          "metadata": {},
          "output_type": "execute_result"
        }
      ],
      "source": [
        "# Get max length of sentences\n",
        "max_len = len(max(X_train, key=len).split(\" \"))\n",
        "max_len"
      ]
    },
    {
      "cell_type": "code",
      "execution_count": 11,
      "metadata": {
        "colab": {
          "base_uri": "https://localhost:8080/"
        },
        "id": "9Z3RPSgFhrDv",
        "outputId": "77723ec4-4a9f-40c5-df3b-05ee08b4b181"
      },
      "outputs": [
        {
          "name": "stdout",
          "output_type": "stream",
          "text": [
            "I love you mum ❤️\n"
          ]
        }
      ],
      "source": [
        "# Replace labels with related emoji\n",
        "def label_to_emoji(label):\n",
        "    emojies = [\"❤️\", \"🏐\", \"😄\", \"😞\", \"🍴\"]\n",
        "    return emojies[label]\n",
        "\n",
        "index = 5\n",
        "print(X_train[index], label_to_emoji(Y_train[index]))"
      ]
    },
    {
      "cell_type": "code",
      "execution_count": 356,
      "metadata": {
        "colab": {
          "base_uri": "https://localhost:8080/"
        },
        "id": "6dfohLRuKXl-",
        "outputId": "7d74c461-77ca-4f33-bd13-2944f5bed3cf"
      },
      "outputs": [
        {
          "data": {
            "text/plain": [
              "{0: 22, 1: 19, 2: 38, 3: 36, 4: 17}"
            ]
          },
          "execution_count": 356,
          "metadata": {},
          "output_type": "execute_result"
        }
      ],
      "source": [
        "# Number of sentence in each class\n",
        "unique, counts = np.unique(Y_train, return_counts=True)\n",
        "dict(zip(unique, counts))"
      ]
    },
    {
      "cell_type": "markdown",
      "metadata": {
        "id": "LflrvFq-FXdJ"
      },
      "source": [
        "## Emojifier-V1\n",
        "\n",
        "Each word has some feature, and in Emojifier-V1 we want to classify sentences using multilayer perceptron:\n",
        "\n",
        "- We get the average of words in each sentence and then forward it to the multilayer perceptron with 50 input neurons(each word has 50 features, then the average of words in the sentence has 50 features) and an output layer of softmax with 5 neurons.\n",
        "\n",
        "- For feature vectors, we can get from this link: http://nlp.stanford.edu/data/glove.6B.zip\n",
        "\n",
        "<br>\n",
        "\n",
        "<center>\n",
        "<img src=\"https://github.com/Alireza-Akhavan/rnn-notebooks/blob/master/images/image_1.png?raw=1\" style=\"width:900px;height:300px;\">\n",
        "</center>\n"
      ]
    },
    {
      "cell_type": "code",
      "execution_count": 9,
      "metadata": {
        "id": "USU58amfjtaQ"
      },
      "outputs": [],
      "source": [
        "# Convert labels to one hot\n",
        "num_classes = len(np.unique(Y_train))\n",
        "\n",
        "Y_train_oh = tf.keras.utils.to_categorical(Y_train, num_classes)\n",
        "Y_test_oh = tf.keras.utils.to_categorical(Y_test, num_classes)"
      ]
    },
    {
      "cell_type": "code",
      "execution_count": 13,
      "metadata": {
        "colab": {
          "base_uri": "https://localhost:8080/"
        },
        "id": "aKJfkEXBPq6J",
        "outputId": "b21b0cce-988d-446d-8f63-1bf877146464"
      },
      "outputs": [
        {
          "name": "stdout",
          "output_type": "stream",
          "text": [
            "0 is converted into one hot [1. 0. 0. 0. 0.]\n"
          ]
        }
      ],
      "source": [
        "index = 5\n",
        "print(Y_train[index], \"is converted into one hot\", Y_train_oh[index])"
      ]
    },
    {
      "cell_type": "code",
      "execution_count": null,
      "metadata": {
        "id": "G2YXsxC5hvvF"
      },
      "outputs": [],
      "source": [
        "# Download feature vectors and extract\n",
        "!wget http://nlp.stanford.edu/data/glove.6B.zip\n",
        "!unzip -q glove.6B.zip -d glov.6B"
      ]
    },
    {
      "cell_type": "code",
      "execution_count": 17,
      "metadata": {
        "id": "rtQ_L_0Tiqcm"
      },
      "outputs": [],
      "source": [
        "# Read feature vectors and save them\n",
        "\"\"\"\n",
        "In the text file, in each line,\n",
        "the word comes first, and then the feature vectors(each word is in one line).\n",
        "\"\"\"\n",
        "def read_glov_vectors(glove_file):\n",
        "  f = open(glove_file, encoding=\"utf8\")\n",
        "  words = set()\n",
        "  words_to_vec = dict()\n",
        "  for line in f:\n",
        "    line = line.strip().split()\n",
        "    word = line[0]\n",
        "    vec = line[1:]\n",
        "    words.add(word)\n",
        "    words_to_vec[word] = np.array(vec, dtype=np.float64)\n",
        "  return words_to_vec"
      ]
    },
    {
      "cell_type": "code",
      "execution_count": null,
      "metadata": {
        "id": "JG-Yx2ixlshd"
      },
      "outputs": [],
      "source": [
        "words_to_vec = read_glov_vectors(\"/content/glov.6B/glove.6B.50d.txt\")\n",
        "\n",
        "# Test the output of read_glov_vectors function\n",
        "words_to_vec[\"hello\"]"
      ]
    },
    {
      "cell_type": "code",
      "execution_count": 22,
      "metadata": {
        "id": "zPCRo5VumAQH"
      },
      "outputs": [],
      "source": [
        "#  Convert sentences to the average of the word vectors\n",
        "def sentence_to_avg(sentence):\n",
        "  words = sentence.lower().split() # Convert uppercase to lowercase\n",
        "  sum_vectors = np.zeros((50, ))\n",
        "  for w in words:\n",
        "    sum_vectors += words_to_vec[w]\n",
        "  avg_vectors = sum_vectors / len(words)\n",
        "  return avg_vectors"
      ]
    },
    {
      "cell_type": "code",
      "execution_count": null,
      "metadata": {
        "id": "2HnS59mns5x-"
      },
      "outputs": [],
      "source": [
        "# Test sentence_to_avg function\n",
        "sentence_to_avg(\"Pasta is my favorite food\")"
      ]
    },
    {
      "cell_type": "code",
      "execution_count": 31,
      "metadata": {
        "colab": {
          "base_uri": "https://localhost:8080/"
        },
        "id": "CyUggXaVnhpy",
        "outputId": "1a9bdb5b-4b1b-466f-aea1-1257524d6df5"
      },
      "outputs": [
        {
          "data": {
            "text/plain": [
              "((132, 50), (132, 5))"
            ]
          },
          "execution_count": 31,
          "metadata": {},
          "output_type": "execute_result"
        }
      ],
      "source": [
        "# Get the average of all sentences\n",
        "X_train_avg = []\n",
        "for i in range(X_train.shape[0]):\n",
        "  X_train_avg.append(sentence_to_avg(X_train[i]))\n",
        "\n",
        "X_train_avg = np.array(X_train_avg)\n",
        "\n",
        "X_train_avg.shape, Y_train_oh.shape"
      ]
    },
    {
      "cell_type": "code",
      "execution_count": 29,
      "metadata": {
        "id": "8tueM3X_HeWK"
      },
      "outputs": [],
      "source": [
        "# Create model(using perceptron)\n",
        "class EmojiNet_V1(Model):\n",
        "    def __init__(self):\n",
        "        super().__init__()\n",
        "        self.dense = Dense(num_classes, input_shape=(50,), activation='softmax')\n",
        "\n",
        "    def call(self, x):\n",
        "        x = self.dense(x)\n",
        "        return x"
      ]
    },
    {
      "cell_type": "code",
      "execution_count": null,
      "metadata": {
        "id": "bjZk2ZJRHhKR"
      },
      "outputs": [],
      "source": [
        "# Compile and fit the model\n",
        "model = EmojiNet_V1()\n",
        "\n",
        "model.compile(optimizer=tf.keras.optimizers.Adam(),\n",
        "              loss='categorical_crossentropy', \n",
        "              metrics=['accuracy'])\n",
        "\n",
        "model.fit(X_train_avg, Y_train_oh, epochs=400, shuffle=True)"
      ]
    },
    {
      "cell_type": "code",
      "execution_count": 35,
      "metadata": {
        "colab": {
          "base_uri": "https://localhost:8080/"
        },
        "id": "WkIvwzRIHp1-",
        "outputId": "280ce784-f20b-45c3-e791-b227de9d2b33"
      },
      "outputs": [
        {
          "name": "stdout",
          "output_type": "stream",
          "text": [
            "2/2 [==============================] - 0s 16ms/step - loss: 0.6378 - accuracy: 0.8393\n"
          ]
        },
        {
          "data": {
            "text/plain": [
              "[0.6378283500671387, 0.8392857313156128]"
            ]
          },
          "execution_count": 35,
          "metadata": {},
          "output_type": "execute_result"
        }
      ],
      "source": [
        "# Evaluation\n",
        "X_test_avg = []\n",
        "for i in range(X_test.shape[0]):\n",
        "    X_test_avg.append(sentence_to_avg(X_test[i]))\n",
        "\n",
        "X_test_avg = np.array(X_test_avg)\n",
        "model.evaluate(X_test_avg, Y_test_oh)"
      ]
    },
    {
      "cell_type": "code",
      "execution_count": 38,
      "metadata": {
        "colab": {
          "base_uri": "https://localhost:8080/"
        },
        "id": "sGsM6aAoHv2c",
        "outputId": "5e7a7c91-7268-41d0-f92a-1effff6661f3"
      },
      "outputs": [
        {
          "name": "stdout",
          "output_type": "stream",
          "text": [
            "1/1 [==============================] - 0s 19ms/step\n",
            "not sad 😞\n",
            "i adore you ❤️\n",
            "i love you ❤️\n",
            "funny lol 😄\n",
            "lets play with a ball 🏐\n",
            "food is ready 🍴\n",
            "not feeling happy and funny 😄\n"
          ]
        }
      ],
      "source": [
        "# Inference\n",
        "X_me = np.array([\"not sad\", \"i adore you\", \"i love you\", \"funny lol\", \"lets play with a ball\", \"food is ready\", \"not feeling happy and funny\"])\n",
        "Y_me = np.array([[2], [0], [0], [2], [1], [4], [3]])\n",
        "X_me_avg = []\n",
        "\n",
        "for x in X_me:\n",
        "    X_me_avg.append(sentence_to_avg(x))\n",
        "\n",
        "X_me_avg = np.array(X_me_avg)\n",
        "pred = model.predict(X_me_avg)\n",
        "\n",
        "for i in range(X_me.shape[0]):\n",
        "    print(X_me[i], label_to_emoji(np.argmax(pred[i])))"
      ]
    },
    {
      "cell_type": "markdown",
      "metadata": {
        "id": "URuAB0T1llZs"
      },
      "source": [
        "## Emojifier-V2: Using RNNs: \n",
        "\n",
        "Let's build an LSTM model that takes as input word sequences. This model will be able to take word ordering into account. Emojifier-V2 will continue to use pre-trained word embeddings to represent words, but will feed them into an LSTM, whose job it is to predict the most appropriate emoji. \n",
        "\n",
        "Run the following cell to load the Keras packages.\n",
        "\n",
        "<br>\n",
        "\n",
        "<img src=\"https://github.com/Alireza-Akhavan/rnn-notebooks/blob/master/images/emojifier-v2.png?raw=1\" style=\"width:700px;height:400px;\"> <br>\n",
        "<caption><center> **Figure 3**: Emojifier-V2. A 2-layer LSTM sequence classifier. </center></caption>"
      ]
    },
    {
      "cell_type": "markdown",
      "metadata": {
        "id": "Cx-HnKjDTvNO"
      },
      "source": [
        "<img src=\"https://github.com/Alireza-Akhavan/rnn-notebooks/blob/master/images/embedding1.png?raw=1\" style=\"width:700px;height:250px;\">\n",
        "<caption><center> **Figure 4**: Embedding layer. This example shows the propagation of two examples through the embedding layer. Both have been zero-padded to a length of `max_len=5`. The final dimension of the representation is  `(2,max_len,50)` because the word embeddings we are using are 50 dimensional. </center></caption>"
      ]
    },
    {
      "cell_type": "code",
      "execution_count": 605,
      "metadata": {
        "id": "iac4qtchIXRk"
      },
      "outputs": [],
      "source": [
        "# Define model\n",
        "class EmojiNet_V2(Model):\n",
        "    def __init__(self):\n",
        "        super().__init__()\n",
        "        \n",
        "        self.lstm_1 = GRU(128, return_sequences=True)\n",
        "        self.dropout_1 = Dropout(0.3)\n",
        "        self.lstm_2 = GRU(256)\n",
        "        self.dropout_2 = Dropout(0.5)\n",
        "        self.dense = Dense(num_classes, activation='softmax')\n",
        "\n",
        "    def call(self, x):\n",
        "        x = self.lstm_1(x)\n",
        "        # x = self.dropout_1(x)\n",
        "        x = self.lstm_2(x)\n",
        "        x = self.dropout_2(x)\n",
        "        x = self.dense(x)\n",
        "        return x"
      ]
    },
    {
      "cell_type": "code",
      "execution_count": 606,
      "metadata": {
        "id": "HKURJ9USpxJR"
      },
      "outputs": [],
      "source": [
        "# Compile model\n",
        "model = EmojiNet_V2()\n",
        "\n",
        "model.compile(optimizer=tf.keras.optimizers.Adam(learning_rate=0.0001),\n",
        "              loss='categorical_crossentropy', \n",
        "              metrics=['accuracy'])"
      ]
    },
    {
      "cell_type": "code",
      "execution_count": 607,
      "metadata": {
        "id": "hU4iX2_WH6jc"
      },
      "outputs": [],
      "source": [
        "# Fix the size of all sentences to max_len\n",
        "def convert_sentences_to_embeddings(X):\n",
        "    emb_dim = words_to_vec[\"cucumber\"].shape[0]  # define dimensionality of your GloVe word vectors (= 50)\n",
        "    emb_matrix = np.zeros((X.shape[0], max_len, emb_dim))\n",
        "    for i in range(X.shape[0]):\n",
        "        words = X[i].lower().split()\n",
        "        for j in range(len(words)):\n",
        "            emb_matrix[i, j, :] = words_to_vec[words[j]]\n",
        "    return emb_matrix"
      ]
    },
    {
      "cell_type": "code",
      "execution_count": null,
      "metadata": {
        "id": "1CwvU_7FH_XB"
      },
      "outputs": [],
      "source": [
        "# Test convert_sentences_to_embeddings function\n",
        "X_me = np.array([\"funny lol\", \"lets play baseball\", \"food is ready for you\"])\n",
        "print(X_me)\n",
        "print(convert_sentences_to_embeddings(X_me))"
      ]
    },
    {
      "cell_type": "code",
      "execution_count": 609,
      "metadata": {
        "colab": {
          "base_uri": "https://localhost:8080/"
        },
        "id": "Ci8WjOaRITIN",
        "outputId": "78975bac-1f89-49c0-c7ae-d9d7da70758a"
      },
      "outputs": [
        {
          "data": {
            "text/plain": [
              "(132, 10, 50)"
            ]
          },
          "execution_count": 609,
          "metadata": {},
          "output_type": "execute_result"
        }
      ],
      "source": [
        "# Run convert_sentences_to_embeddings function for training data \n",
        "X_train_embs =convert_sentences_to_embeddings(X_train)\n",
        "X_train_embs.shape"
      ]
    },
    {
      "cell_type": "code",
      "execution_count": null,
      "metadata": {
        "id": "kZp85tH8IdGe"
      },
      "outputs": [],
      "source": [
        "model.fit(X_train_embs, Y_train_oh, epochs=100, batch_size=4, shuffle=True)"
      ]
    },
    {
      "cell_type": "code",
      "execution_count": 611,
      "metadata": {
        "colab": {
          "base_uri": "https://localhost:8080/"
        },
        "id": "HPCVVYx8ycym",
        "outputId": "186c29c4-61d5-43a6-d201-5e299cd59199"
      },
      "outputs": [
        {
          "name": "stdout",
          "output_type": "stream",
          "text": [
            "(56, 10, 50)\n",
            "2/2 [==============================] - 1s 8ms/step - loss: 0.2619 - accuracy: 0.9464\n"
          ]
        },
        {
          "data": {
            "text/plain": [
              "[0.26191839575767517, 0.9464285969734192]"
            ]
          },
          "execution_count": 611,
          "metadata": {},
          "output_type": "execute_result"
        }
      ],
      "source": [
        "# Evaluation\n",
        "X_test_embs = convert_sentences_to_embeddings(X_test)\n",
        "print(X_test_embs.shape)\n",
        "model.evaluate(X_test_embs, Y_test_oh)"
      ]
    },
    {
      "cell_type": "code",
      "execution_count": 612,
      "metadata": {
        "colab": {
          "base_uri": "https://localhost:8080/"
        },
        "id": "JYvYfbwfysLn",
        "outputId": "dfa4ff63-7b63-4ce8-8dba-488b88323262"
      },
      "outputs": [
        {
          "name": "stdout",
          "output_type": "stream",
          "text": [
            "1/1 [==============================] - 1s 544ms/step\n",
            "not happy 😞\n",
            "i adore you ❤️\n",
            "i love you ❤️\n",
            "funny lol 😄\n",
            "lets play with a ball 🏐\n",
            "food is ready 🍴\n",
            "not feeling happy and funny 😄\n"
          ]
        }
      ],
      "source": [
        "# Inference\n",
        "X_me = np.array([\"not happy\", \"i adore you\", \"i love you\", \"funny lol\", \"lets play with a ball\", \"food is ready\", \"not feeling happy and funny\"])\n",
        "Y_me = np.array([[2], [0], [0], [2], [1], [4], [3]])\n",
        "X_me_embed = convert_sentences_to_embeddings(X_me) \n",
        "\n",
        "pred = model.predict(X_me_embed)\n",
        "\n",
        "for i in range(X_me.shape[0]):\n",
        "    print(X_me[i], label_to_emoji(np.argmax(pred[i])))"
      ]
    },
    {
      "cell_type": "code",
      "execution_count": 580,
      "metadata": {
        "id": "52IiygWLzRLq"
      },
      "outputs": [],
      "source": []
    }
  ],
  "metadata": {
    "accelerator": "GPU",
    "colab": {
      "collapsed_sections": [],
      "provenance": []
    },
    "gpuClass": "standard",
    "kernelspec": {
      "display_name": "Python 3",
      "name": "python3"
    },
    "language_info": {
      "name": "python"
    }
  },
  "nbformat": 4,
  "nbformat_minor": 0
}
