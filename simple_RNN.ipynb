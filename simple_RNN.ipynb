{
  "nbformat": 4,
  "nbformat_minor": 0,
  "metadata": {
    "kernelspec": {
      "display_name": "tensorflow",
      "language": "python",
      "name": "tensorflow"
    },
    "language_info": {
      "codemirror_mode": {
        "name": "ipython",
        "version": 3
      },
      "file_extension": ".py",
      "mimetype": "text/x-python",
      "name": "python",
      "nbconvert_exporter": "python",
      "pygments_lexer": "ipython3",
      "version": "3.6.8"
    },
    "colab": {
      "name": "simple_RNN.ipynb",
      "provenance": [],
      "collapsed_sections": []
    },
    "accelerator": "GPU"
  },
  "cells": [
    {
      "cell_type": "code",
      "metadata": {
        "id": "IM4fgczo8FTa"
      },
      "source": [
        "import pandas as pd\n",
        "import numpy as np\n",
        "from keras.models import Sequential\n",
        "from keras.layers import Dense, SimpleRNN\n",
        "import matplotlib.pyplot as plt\n",
        "%matplotlib inline"
      ],
      "execution_count": null,
      "outputs": []
    },
    {
      "cell_type": "code",
      "metadata": {
        "id": "yrVZxNVI8UVA"
      },
      "source": [
        "t = np.arange(0,1500)\n",
        "x = np.sin(0.02*t)+ np.random.rand(1500) * 2\n",
        "\n",
        "train,test = x[0:1000], x[1000:]\n",
        "\n",
        "# convert into dataset data and label\n",
        "def convertToDataset(data, step):\n",
        "    #data = np.append(data,np.repeat(data[-1,],step))\n",
        "    X, Y =[], []\n",
        "    for i in range(len(data)-step):\n",
        "        d=i+step  \n",
        "        X.append(data[i:d,])\n",
        "        Y.append(data[d,])\n",
        "    return np.array(X), np.array(Y)"
      ],
      "execution_count": null,
      "outputs": []
    },
    {
      "cell_type": "code",
      "metadata": {
        "id": "4SIldK_L8FTb"
      },
      "source": [
        "train_step = 10\n",
        "test_step = 20\n",
        "\n",
        "trainX, trainY = convertToDataset(train, train_step)\n",
        "testX, testY = convertToDataset(test, test_step)\n",
        "\n",
        "trainX = np.reshape(trainX, (trainX.shape[0], trainX.shape[1], 1))\n",
        "testX = np.reshape(testX, (testX.shape[0], testX.shape[1], 1))"
      ],
      "execution_count": null,
      "outputs": []
    },
    {
      "cell_type": "code",
      "metadata": {
        "id": "iK-mcK-R8FTb",
        "colab": {
          "base_uri": "https://localhost:8080/"
        },
        "outputId": "99cc86af-f3e0-47ea-d413-809f03ae18c4"
      },
      "source": [
        "print(trainX.shape)\n",
        "print(testX.shape)"
      ],
      "execution_count": null,
      "outputs": [
        {
          "output_type": "stream",
          "text": [
            "(990, 10, 1)\n",
            "(480, 20, 1)\n"
          ],
          "name": "stdout"
        }
      ]
    },
    {
      "cell_type": "code",
      "metadata": {
        "id": "iX4OegQD8FTc"
      },
      "source": [
        "model = Sequential()\n",
        "model.add(SimpleRNN(units=64, input_shape=(None, 1),  activation=\"tanh\"))\n",
        "model.add(Dense(1))\n",
        "model.compile(loss='mean_squared_error', optimizer='rmsprop')"
      ],
      "execution_count": null,
      "outputs": []
    },
    {
      "cell_type": "code",
      "metadata": {
        "id": "IS7fJmQi8FTc",
        "colab": {
          "base_uri": "https://localhost:8080/"
        },
        "outputId": "1b266dff-8ff4-4367-a50a-4119efdb5f3e"
      },
      "source": [
        "model.summary()"
      ],
      "execution_count": null,
      "outputs": [
        {
          "output_type": "stream",
          "text": [
            "Model: \"sequential\"\n",
            "_________________________________________________________________\n",
            "Layer (type)                 Output Shape              Param #   \n",
            "=================================================================\n",
            "simple_rnn (SimpleRNN)       (None, 64)                4224      \n",
            "_________________________________________________________________\n",
            "dense (Dense)                (None, 1)                 65        \n",
            "=================================================================\n",
            "Total params: 4,289\n",
            "Trainable params: 4,289\n",
            "Non-trainable params: 0\n",
            "_________________________________________________________________\n"
          ],
          "name": "stdout"
        }
      ]
    },
    {
      "cell_type": "code",
      "metadata": {
        "id": "Q385cMdV8FTc",
        "colab": {
          "base_uri": "https://localhost:8080/"
        },
        "outputId": "f716feca-1012-48ae-898b-c3d5fa4d387a"
      },
      "source": [
        "model.input"
      ],
      "execution_count": null,
      "outputs": [
        {
          "output_type": "execute_result",
          "data": {
            "text/plain": [
              "<KerasTensor: shape=(None, None, 1) dtype=float32 (created by layer 'simple_rnn_input')>"
            ]
          },
          "metadata": {
            "tags": []
          },
          "execution_count": 8
        }
      ]
    },
    {
      "cell_type": "code",
      "metadata": {
        "id": "8ikPXyJo8FTd"
      },
      "source": [
        "history = model.fit(trainX,trainY, epochs=100, batch_size=16, verbose=2)"
      ],
      "execution_count": null,
      "outputs": []
    },
    {
      "cell_type": "code",
      "metadata": {
        "id": "hsNMylpl8FTd",
        "colab": {
          "base_uri": "https://localhost:8080/"
        },
        "outputId": "29f736b2-c3bb-4605-a703-17577721e354"
      },
      "source": [
        "trainScore = model.evaluate(trainX, trainY, verbose=0)\n",
        "print(trainScore)"
      ],
      "execution_count": null,
      "outputs": [
        {
          "output_type": "stream",
          "text": [
            "0.10564534366130829\n"
          ],
          "name": "stdout"
        }
      ]
    },
    {
      "cell_type": "code",
      "metadata": {
        "id": "MEnjhLv98FTd"
      },
      "source": [
        "trainPredict = model.predict(trainX)\n",
        "testPredict= model.predict(testX)\n",
        "predicted=np.concatenate((trainPredict,testPredict),axis=0)"
      ],
      "execution_count": null,
      "outputs": []
    },
    {
      "cell_type": "code",
      "metadata": {
        "id": "NjXwoALj8FTd",
        "colab": {
          "base_uri": "https://localhost:8080/",
          "height": 265
        },
        "outputId": "22ba9fcb-e1ab-4247-88e0-ca7655ee00cc"
      },
      "source": [
        "plt.plot(x)\n",
        "plt.plot(predicted)\n",
        "plt.axvline(len(trainX), c=\"r\")\n",
        "plt.show()"
      ],
      "execution_count": null,
      "outputs": [
        {
          "output_type": "display_data",
          "data": {
            "image/png": "[encoded data removed]",
            "text/plain": [
              "<Figure size 432x288 with 1 Axes>"
            ]
          },
          "metadata": {
            "tags": [],
            "needs_background": "light"
          }
        }
      ]
    },
    {
      "cell_type": "code",
      "metadata": {
        "id": "9K7I9lUk8pQa"
      },
      "source": [
        ""
      ],
      "execution_count": null,
      "outputs": []
    }
  ]
}